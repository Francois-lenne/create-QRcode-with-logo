{
 "cells": [
  {
   "cell_type": "code",
   "execution_count": 1,
   "id": "b0ab456f",
   "metadata": {},
   "outputs": [],
   "source": [
    "import qrcode\n",
    "qr = qrcode.QRCode(\n",
    "    version=1,\n",
    "    error_correction=qrcode.constants.ERROR_CORRECT_L,\n",
    "    box_size=10,\n",
    "    border=4,\n",
    ")\n",
    "qr.add_data('Some data')\n",
    "qr.make(fit=True)\n",
    "\n",
    "img = qr.make_image(fill_color=\"black\", back_color=\"white\")"
   ]
  },
  {
   "cell_type": "code",
   "execution_count": 2,
   "id": "bfa18837",
   "metadata": {},
   "outputs": [
    {
     "data": {
      "image/png": "[encoded data removed]",
      "text/plain": [
       "<qrcode.image.pil.PilImage at 0x7fea79e14970>"
      ]
     },
     "execution_count": 2,
     "metadata": {},
     "output_type": "execute_result"
    }
   ],
   "source": [
    "img"
   ]
  },
  {
   "cell_type": "code",
   "execution_count": 3,
   "id": "5e76b255",
   "metadata": {},
   "outputs": [],
   "source": [
    "import qrcode\n",
    "# Link for website\n",
    "input_data = \"https://www.datascienceportfol.io/Lenne_Francois\"\n",
    "#Creating an instance of qrcode\n",
    "qr = qrcode.QRCode(\n",
    "        version=1,\n",
    "        box_size=10,\n",
    "        border=5)\n",
    "qr.add_data(input_data)\n",
    "qr.make(fit=True)\n",
    "img = qr.make_image(fill='black', back_color='white')\n",
    "img.save('qrcode001.png')"
   ]
  },
  {
   "cell_type": "code",
   "execution_count": 4,
   "id": "9a9af3e5",
   "metadata": {},
   "outputs": [
    {
     "data": {
      "image/png": "[encoded data removed]",
      "text/plain": [
       "<qrcode.image.pil.PilImage at 0x7fea79df8e50>"
      ]
     },
     "execution_count": 4,
     "metadata": {},
     "output_type": "execute_result"
    }
   ],
   "source": [
    "img"
   ]
  },
  {
   "cell_type": "code",
   "execution_count": 27,
   "id": "70b5f6b0",
   "metadata": {},
   "outputs": [
    {
     "name": "stdout",
     "output_type": "stream",
     "text": [
      "QR code generated!\n"
     ]
    },
    {
     "name": "stderr",
     "output_type": "stream",
     "text": [
      "/var/folders/0h/p9gw4lc50jj0n8_5tr4dnyzc0000gn/T/ipykernel_873/2999409517.py:17: DeprecationWarning: ANTIALIAS is deprecated and will be removed in Pillow 10 (2023-07-01). Use Resampling.LANCZOS instead.\n",
      "  logo = logo.resize((basewidth, hsize), Image.ANTIALIAS)\n"
     ]
    }
   ],
   "source": [
    "# import modules\n",
    "import qrcode\n",
    "from PIL import Image\n",
    "\n",
    "# taking image which user wants\n",
    "# in the QR code center\n",
    "Logo_link = 'Portofolio2.png'\n",
    "\n",
    "logo = Image.open(Logo_link)\n",
    "\n",
    "# taking base width\n",
    "basewidth = 100\n",
    "\n",
    "# adjust image size\n",
    "wpercent = (basewidth/float(logo.size[0]))\n",
    "hsize = int((float(logo.size[1])*float(wpercent)))\n",
    "logo = logo.resize((basewidth, hsize), Image.ANTIALIAS)\n",
    "QRcode = qrcode.QRCode(\n",
    "\terror_correction=qrcode.constants.ERROR_CORRECT_H\n",
    ")\n",
    "\n",
    "# taking url or text\n",
    "url = 'https://www.geeksforgeeks.org/'\n",
    "\n",
    "# adding URL or text to QRcode\n",
    "QRcode.add_data(url)\n",
    "\n",
    "# generating QR code\n",
    "QRcode.make()\n",
    "\n",
    "# taking color name from user\n",
    "QRcolor = 6\n",
    "\n",
    "# adding color to QR code\n",
    "QRimg = QRcode.make_image(\n",
    "\tfill_color=QRcolor, back_color=\"white\").convert('RGB')\n",
    "\n",
    "# set size of QR code\n",
    "pos = ((QRimg.size[0] - logo.size[0]) // 2,\n",
    "\t(QRimg.size[1] - logo.size[1]) // 2)\n",
    "QRimg.paste(logo, pos)\n",
    "\n",
    "# save the QR code generated\n",
    "QRimg.save('Portofolio.png')\n",
    "\n",
    "print('QR code generated!')\n"
   ]
  },
  {
   "cell_type": "code",
   "execution_count": 28,
   "id": "2431e074",
   "metadata": {
    "scrolled": true
   },
   "outputs": [
    {
     "data": {
      "image/png": "[encoded data removed]",
      "text/plain": [
       "<PIL.Image.Image image mode=RGB size=410x410>"
      ]
     },
     "execution_count": 28,
     "metadata": {},
     "output_type": "execute_result"
    }
   ],
   "source": [
    "QRimg"
   ]
  },
  {
   "cell_type": "code",
   "execution_count": null,
   "id": "a36e3a34",
   "metadata": {},
   "outputs": [],
   "source": []
  }
 ],
 "metadata": {
  "kernelspec": {
   "display_name": "Python 3 (ipykernel)",
   "language": "python",
   "name": "python3"
  },
  "language_info": {
   "codemirror_mode": {
    "name": "ipython",
    "version": 3
   },
   "file_extension": ".py",
   "mimetype": "text/x-python",
   "name": "python",
   "nbconvert_exporter": "python",
   "pygments_lexer": "ipython3",
   "version": "3.9.13"
  }
 },
 "nbformat": 4,
 "nbformat_minor": 5
}
